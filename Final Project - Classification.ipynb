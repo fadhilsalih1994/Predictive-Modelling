{
 "cells": [
  {
   "cell_type": "code",
   "execution_count": 15,
   "metadata": {},
   "outputs": [],
   "source": [
    "import pandas as pd\n",
    "import matplotlib.pyplot as plt\n",
    "import numpy as np\n",
    "import random as rnd\n",
    "%matplotlib inline\n",
    "import seaborn as sns\n",
    "from sklearn import datasets, linear_model\n",
    "from sklearn.linear_model import LinearRegression\n",
    "from sklearn.linear_model import LogisticRegression\n",
    "from sklearn.svm import SVC, LinearSVC\n",
    "from sklearn.ensemble import RandomForestClassifier\n",
    "from sklearn.neighbors import KNeighborsClassifier\n",
    "from sklearn.naive_bayes import GaussianNB\n",
    "from sklearn.linear_model import Perceptron\n",
    "from sklearn.linear_model import SGDClassifier\n",
    "from sklearn.tree import DecisionTreeClassifier\n",
    "from sklearn.preprocessing import label_binarize\n",
    "from sklearn.multiclass import OneVsRestClassifier\n",
    "from sklearn.ensemble import GradientBoostingClassifier\n",
    "from sklearn.neural_network import MLPClassifier\n",
    "from scipy import interp\n",
    "from itertools import cycle\n",
    "from sklearn.metrics import roc_curve\n",
    "from sklearn.metrics import roc_auc_score\n",
    "from sklearn import preprocessing"
   ]
  },
  {
   "cell_type": "code",
   "execution_count": 16,
   "metadata": {},
   "outputs": [],
   "source": [
    "skin = pd.read_csv(r'C:\\Users\\fadhi\\Desktop\\Stat 517\\Final Project\\Skin_HAM10000.csv')"
   ]
  },
  {
   "cell_type": "code",
   "execution_count": 17,
   "metadata": {},
   "outputs": [
    {
     "name": "stdout",
     "output_type": "stream",
     "text": [
      "(10015, 193)\n",
      "4    6705\n",
      "6    1113\n",
      "2    1099\n",
      "1     514\n",
      "0     327\n",
      "5     142\n",
      "3     115\n",
      "Name: label, dtype: int64\n"
     ]
    }
   ],
   "source": [
    "print (skin.shape)\n",
    "print (skin.label.value_counts())"
   ]
  },
  {
   "cell_type": "code",
   "execution_count": 19,
   "metadata": {},
   "outputs": [
    {
     "name": "stdout",
     "output_type": "stream",
     "text": [
      "(10015, 192)\n",
      "(10015, 1)\n"
     ]
    }
   ],
   "source": [
    "y = pd.DataFrame([skin.label]).T # Separating the response variable\n",
    "x = pd.DataFrame(skin)\n",
    "x = skin.drop(['label'], axis = 1)\n",
    "print (x.shape)\n",
    "print (y.shape)"
   ]
  },
  {
   "cell_type": "code",
   "execution_count": 20,
   "metadata": {},
   "outputs": [
    {
     "name": "stdout",
     "output_type": "stream",
     "text": [
      "(7511, 192)\n",
      "(2504, 192)\n",
      "(7511, 1)\n",
      "(2504, 1)\n"
     ]
    }
   ],
   "source": [
    "from sklearn.cross_validation import train_test_split\n",
    "xtrain, xtest, ytrain, ytest = train_test_split(x, y, random_state = 7, test_size = 0.25)\n",
    "print (xtrain.shape)\n",
    "print (xtest.shape)\n",
    "print (ytrain.shape)\n",
    "print (ytest.shape)"
   ]
  },
  {
   "cell_type": "code",
   "execution_count": 22,
   "metadata": {},
   "outputs": [
    {
     "name": "stdout",
     "output_type": "stream",
     "text": [
      "Training accuracy = 43.98\n",
      "Testing accuracy = 44.05\n"
     ]
    }
   ],
   "source": [
    "from sklearn.naive_bayes import GaussianNB\n",
    "\n",
    "GNB_model = GaussianNB()\n",
    "GNB_model.fit(xtrain, ytrain)\n",
    "y_mod = GNB_model.predict(xtest)\n",
    "accuracy_GNB1 = round(GNB_model.score(xtrain, ytrain) * 100, 2)\n",
    "print ('Training accuracy = {}'.format(accuracy_GNB1))\n",
    "accuracy_GNB2 = round(accuracy_score(ytest, y_mod) * 100, 2)\n",
    "print ('Testing accuracy = {}'.format(accuracy_GNB2))"
   ]
  },
  {
   "cell_type": "code",
   "execution_count": 23,
   "metadata": {},
   "outputs": [
    {
     "name": "stdout",
     "output_type": "stream",
     "text": [
      "Training accuracy = 100.0\n",
      "Testing accuracy = 68.13\n"
     ]
    }
   ],
   "source": [
    "SVC_model = SVC() # Calling the support vector machine function\n",
    "SVC_model.fit(xtrain, ytrain)\n",
    "y_mod = SVC_model.predict(xtest)\n",
    "accuracy_SVC1 = round(SVC_model.score(xtrain, ytrain) * 100, 2)\n",
    "print ('Training accuracy = {}'.format(accuracy_SVC1))\n",
    "accuracy_SVC2 = round(accuracy_score(ytest, y_mod) * 100, 2)\n",
    "print ('Testing accuracy = {}'.format(accuracy_SVC2))"
   ]
  },
  {
   "cell_type": "code",
   "execution_count": 24,
   "metadata": {},
   "outputs": [],
   "source": [
    "# Binarize the output\n",
    "y = label_binarize(y, classes=[0, 1, 2, 3, 4, 5, 6])\n",
    "n_classes = y.shape[1]"
   ]
  },
  {
   "cell_type": "code",
   "execution_count": 25,
   "metadata": {},
   "outputs": [
    {
     "name": "stdout",
     "output_type": "stream",
     "text": [
      "(7511, 192)\n",
      "(2504, 192)\n",
      "(7511L, 7L)\n",
      "(2504L, 7L)\n"
     ]
    }
   ],
   "source": [
    "from sklearn.cross_validation import train_test_split\n",
    "xtrain, xtest, ytrain, ytest = train_test_split(x, y, random_state = 7, test_size = 0.25)\n",
    "print (xtrain.shape)\n",
    "print (xtest.shape)\n",
    "print (ytrain.shape)\n",
    "print (ytest.shape)"
   ]
  },
  {
   "cell_type": "code",
   "execution_count": 26,
   "metadata": {},
   "outputs": [
    {
     "name": "stdout",
     "output_type": "stream",
     "text": [
      "Training Accuracy = 78.02\n",
      "Testing Accuracy = 67.45\n"
     ]
    }
   ],
   "source": [
    "from sklearn.neighbors import KNeighborsClassifier\n",
    "from sklearn.metrics import accuracy_score\n",
    "Knn_Model = KNeighborsClassifier(n_neighbors = 3)\n",
    "Knn_Model.fit(xtrain, ytrain) #Fitting the model\n",
    "y_mod = Knn_Model.predict(xtest) #Predicting response variable\n",
    "accuracy_Knn1 = round(Knn_Model.score(xtrain, ytrain) * 100, 2) # Testing the accuracy between xtrain and ytrain\n",
    "print ('Training Accuracy = {}'.format(accuracy_Knn1))\n",
    "accuracy_Knn2 = round(accuracy_score(ytest, y_mod) * 100, 2) # Testing the accuracy between ytest and y_mod\n",
    "print ('Testing Accuracy = {}'.format(accuracy_Knn2))"
   ]
  },
  {
   "cell_type": "code",
   "execution_count": 27,
   "metadata": {},
   "outputs": [
    {
     "data": {
      "text/plain": [
       "0.5862853793661529"
      ]
     },
     "execution_count": 27,
     "metadata": {},
     "output_type": "execute_result"
    }
   ],
   "source": [
    "auc1= roc_auc_score(ytest, y_mod) # Generates area under ROC curve\n",
    "auc1"
   ]
  },
  {
   "cell_type": "code",
   "execution_count": 28,
   "metadata": {},
   "outputs": [
    {
     "name": "stdout",
     "output_type": "stream",
     "text": [
      "Training accuracy = 100.0\n",
      "Testing accuracy = 60.78\n"
     ]
    }
   ],
   "source": [
    "Dtree_model = DecisionTreeClassifier()\n",
    "Dtree_model.fit(xtrain, ytrain)\n",
    "y_mod = Dtree_model.predict(xtest)\n",
    "accuracy_Dtree1 = round(Dtree_model.score(xtrain, ytrain) * 100, 2)\n",
    "print ('Training accuracy = {}'.format(accuracy_Dtree1))\n",
    "accuracy_Dtree2 = round(accuracy_score(ytest, y_mod) * 100, 2)\n",
    "print ('Testing accuracy = {}'.format(accuracy_Dtree2))"
   ]
  },
  {
   "cell_type": "code",
   "execution_count": 29,
   "metadata": {},
   "outputs": [
    {
     "data": {
      "text/plain": [
       "0.5852490168400832"
      ]
     },
     "execution_count": 29,
     "metadata": {},
     "output_type": "execute_result"
    }
   ],
   "source": [
    "auc2= roc_auc_score(ytest, y_mod) # Generates area under ROC curve\n",
    "auc2"
   ]
  },
  {
   "cell_type": "code",
   "execution_count": 30,
   "metadata": {},
   "outputs": [
    {
     "name": "stdout",
     "output_type": "stream",
     "text": [
      "Training accuracy = 99.99\n",
      "Testing accuracy = 61.3\n"
     ]
    }
   ],
   "source": [
    "skin_forest = RandomForestClassifier(n_estimators = 100, random_state = 0)\n",
    "skin_forest.fit(xtrain, ytrain)\n",
    "y_mod = skin_forest.predict(xtest)\n",
    "accuracy_random_forest1 = round(skin_forest.score(xtrain, ytrain) * 100, 2)\n",
    "print ('Training accuracy = {}'.format(accuracy_random_forest1))\n",
    "accuracy_random_forest2 = round(accuracy_score(ytest, y_mod) * 100, 2)\n",
    "print ('Testing accuracy = {}'.format(accuracy_random_forest2))"
   ]
  },
  {
   "cell_type": "code",
   "execution_count": 31,
   "metadata": {},
   "outputs": [
    {
     "data": {
      "text/plain": [
       "0.5496156076955966"
      ]
     },
     "execution_count": 31,
     "metadata": {},
     "output_type": "execute_result"
    }
   ],
   "source": [
    "auc3= roc_auc_score(ytest, y_mod) # Generates area under ROC curve\n",
    "auc3"
   ]
  },
  {
   "cell_type": "code",
   "execution_count": 32,
   "metadata": {},
   "outputs": [
    {
     "name": "stdout",
     "output_type": "stream",
     "text": [
      "Training Accuracy: 99.99\n",
      "Testing Accuracy: 61.30\n"
     ]
    }
   ],
   "source": [
    "MLP_model = MLPClassifier(random_state=57)\n",
    "MLP_model.fit(xtrain, ytrain)\n",
    "y_mod = MLP_model.predict(xtest)\n",
    "accuracy_MLP1 = round(skin_forest.score(xtrain, ytrain) * 100, 2)\n",
    "print(\"Training Accuracy: {:.2f}\".format(accuracy_MLP1))\n",
    "accuracy_MLP2 = round(skin_forest.score(xtest, ytest) * 100, 2)\n",
    "print(\"Testing Accuracy: {:.2f}\".format(accuracy_MLP2))"
   ]
  },
  {
   "cell_type": "code",
   "execution_count": 33,
   "metadata": {},
   "outputs": [
    {
     "data": {
      "text/plain": [
       "0.5418992967000286"
      ]
     },
     "execution_count": 33,
     "metadata": {},
     "output_type": "execute_result"
    }
   ],
   "source": [
    "auc4= roc_auc_score(ytest, y_mod) # Generates area under ROC curve\n",
    "auc4"
   ]
  },
  {
   "cell_type": "code",
   "execution_count": 34,
   "metadata": {},
   "outputs": [
    {
     "data": {
      "text/html": [
       "<div>\n",
       "<style scoped>\n",
       "    .dataframe tbody tr th:only-of-type {\n",
       "        vertical-align: middle;\n",
       "    }\n",
       "\n",
       "    .dataframe tbody tr th {\n",
       "        vertical-align: top;\n",
       "    }\n",
       "\n",
       "    .dataframe thead th {\n",
       "        text-align: right;\n",
       "    }\n",
       "</style>\n",
       "<table border=\"1\" class=\"dataframe\">\n",
       "  <thead>\n",
       "    <tr style=\"text-align: right;\">\n",
       "      <th></th>\n",
       "      <th>Model</th>\n",
       "      <th>Testing Score</th>\n",
       "      <th>Training Score</th>\n",
       "    </tr>\n",
       "  </thead>\n",
       "  <tbody>\n",
       "    <tr>\n",
       "      <th>0</th>\n",
       "      <td>KNN</td>\n",
       "      <td>67.45</td>\n",
       "      <td>78.02</td>\n",
       "    </tr>\n",
       "    <tr>\n",
       "      <th>1</th>\n",
       "      <td>Decision Tree</td>\n",
       "      <td>60.78</td>\n",
       "      <td>100.00</td>\n",
       "    </tr>\n",
       "    <tr>\n",
       "      <th>2</th>\n",
       "      <td>Random Forest</td>\n",
       "      <td>61.30</td>\n",
       "      <td>99.99</td>\n",
       "    </tr>\n",
       "    <tr>\n",
       "      <th>3</th>\n",
       "      <td>Gaussian naive Bayes</td>\n",
       "      <td>44.05</td>\n",
       "      <td>43.98</td>\n",
       "    </tr>\n",
       "    <tr>\n",
       "      <th>4</th>\n",
       "      <td>Support vector machines</td>\n",
       "      <td>68.13</td>\n",
       "      <td>100.00</td>\n",
       "    </tr>\n",
       "    <tr>\n",
       "      <th>5</th>\n",
       "      <td>MLP Classifier</td>\n",
       "      <td>61.30</td>\n",
       "      <td>99.99</td>\n",
       "    </tr>\n",
       "  </tbody>\n",
       "</table>\n",
       "</div>"
      ],
      "text/plain": [
       "                     Model  Testing Score  Training Score\n",
       "0                      KNN          67.45           78.02\n",
       "1            Decision Tree          60.78          100.00\n",
       "2            Random Forest          61.30           99.99\n",
       "3     Gaussian naive Bayes          44.05           43.98\n",
       "4  Support vector machines          68.13          100.00\n",
       "5           MLP Classifier          61.30           99.99"
      ]
     },
     "execution_count": 34,
     "metadata": {},
     "output_type": "execute_result"
    }
   ],
   "source": [
    "models_summary1 = pd.DataFrame({\n",
    "    'Model': ['KNN', 'Decision Tree','Random Forest', 'Gaussian naive Bayes', 'Support vector machines', 'MLP Classifier'],\n",
    "    'Training Score': [accuracy_Knn1, accuracy_Dtree1, accuracy_random_forest1, accuracy_GNB1, accuracy_SVC1, accuracy_MLP1],\n",
    "    'Testing Score': [accuracy_Knn2, accuracy_Dtree2, accuracy_random_forest2, accuracy_GNB2, accuracy_SVC2, accuracy_MLP2],\n",
    "     })\n",
    "models_summary1"
   ]
  },
  {
   "cell_type": "code",
   "execution_count": 35,
   "metadata": {},
   "outputs": [
    {
     "data": {
      "text/plain": [
       "<matplotlib.axes._subplots.AxesSubplot at 0x107c38d0>"
      ]
     },
     "execution_count": 35,
     "metadata": {},
     "output_type": "execute_result"
    },
    {
     "data": {
      "image/png": "[encoded data removed]",
      "text/plain": [
       "<matplotlib.figure.Figure at 0x11180f60>"
      ]
     },
     "metadata": {},
     "output_type": "display_data"
    }
   ],
   "source": [
    "models_summary1.plot(kind = 'bar', figsize = (12, 8))"
   ]
  },
  {
   "cell_type": "code",
   "execution_count": 36,
   "metadata": {},
   "outputs": [
    {
     "data": {
      "text/html": [
       "<div>\n",
       "<style scoped>\n",
       "    .dataframe tbody tr th:only-of-type {\n",
       "        vertical-align: middle;\n",
       "    }\n",
       "\n",
       "    .dataframe tbody tr th {\n",
       "        vertical-align: top;\n",
       "    }\n",
       "\n",
       "    .dataframe thead th {\n",
       "        text-align: right;\n",
       "    }\n",
       "</style>\n",
       "<table border=\"1\" class=\"dataframe\">\n",
       "  <thead>\n",
       "    <tr style=\"text-align: right;\">\n",
       "      <th></th>\n",
       "      <th>Model</th>\n",
       "      <th>ROC Score</th>\n",
       "    </tr>\n",
       "  </thead>\n",
       "  <tbody>\n",
       "    <tr>\n",
       "      <th>0</th>\n",
       "      <td>KNN</td>\n",
       "      <td>0.586285</td>\n",
       "    </tr>\n",
       "    <tr>\n",
       "      <th>1</th>\n",
       "      <td>Decision Tree</td>\n",
       "      <td>0.585249</td>\n",
       "    </tr>\n",
       "    <tr>\n",
       "      <th>2</th>\n",
       "      <td>Random Forest</td>\n",
       "      <td>0.549616</td>\n",
       "    </tr>\n",
       "    <tr>\n",
       "      <th>3</th>\n",
       "      <td>MLP Classifier</td>\n",
       "      <td>0.541899</td>\n",
       "    </tr>\n",
       "  </tbody>\n",
       "</table>\n",
       "</div>"
      ],
      "text/plain": [
       "            Model  ROC Score\n",
       "0             KNN   0.586285\n",
       "1   Decision Tree   0.585249\n",
       "2   Random Forest   0.549616\n",
       "3  MLP Classifier   0.541899"
      ]
     },
     "execution_count": 36,
     "metadata": {},
     "output_type": "execute_result"
    }
   ],
   "source": [
    "models_summary2 = pd.DataFrame({\n",
    "    'Model': ['KNN', 'Decision Tree','Random Forest', 'MLP Classifier'],\n",
    "    'ROC Score': [auc1, auc2, auc3, auc4],\n",
    "     })\n",
    "models_summary2"
   ]
  }
 ],
 "metadata": {
  "kernelspec": {
   "display_name": "Python 2",
   "language": "python",
   "name": "python2"
  },
  "language_info": {
   "codemirror_mode": {
    "name": "ipython",
    "version": 2
   },
   "file_extension": ".py",
   "mimetype": "text/x-python",
   "name": "python",
   "nbconvert_exporter": "python",
   "pygments_lexer": "ipython2",
   "version": "2.7.14"
  }
 },
 "nbformat": 4,
 "nbformat_minor": 2
}
